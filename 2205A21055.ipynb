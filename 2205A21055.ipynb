{
  "nbformat": 4,
  "nbformat_minor": 0,
  "metadata": {
    "colab": {
      "provenance": [],
      "authorship_tag": "ABX9TyM2CRxCzGfPqUJHVOvIzKi8",
      "include_colab_link": true
    },
    "kernelspec": {
      "name": "python3",
      "display_name": "Python 3"
    },
    "language_info": {
      "name": "python"
    }
  },
  "cells": [
    {
      "cell_type": "markdown",
      "metadata": {
        "id": "view-in-github",
        "colab_type": "text"
      },
      "source": [
        "<a href=\"https://colab.research.google.com/github/Ramanchameghana/python-/blob/main/2205A21055.ipynb\" target=\"_parent\"><img src=\"https://colab.research.google.com/assets/colab-badge.svg\" alt=\"Open In Colab\"/></a>"
      ]
    },
    {
      "cell_type": "code",
      "source": [
        "rows=6\n",
        "for i in range(rows,0,-1):\n",
        "    for j in range(0,i):\n",
        "        print('+',end='')\n",
        "    print('')\n",
        "print('PATTERN-1')\n",
        "print('\\n')\n",
        "\n",
        "rows=6\n",
        "for i in range(rows+1):\n",
        "    for j in range(i):\n",
        "        print(\"*\",end='')\n",
        "    print('')\n",
        "print('PATTERN-2')\n",
        "print('\\n')\n",
        "\n",
        "rows=6\n",
        "for i in range(rows):\n",
        "    for j in range(rows-i-1):\n",
        "        print(\" \",end='')\n",
        "    for j in range(i+1):\n",
        "        print(\"*\",end='')\n",
        "    print('')\n",
        "print('PATTERN-3')\n",
        "print('\\n')\n",
        "\n",
        "rows=6\n",
        "for i in range(rows):\n",
        "    print(' ' * (i * 1), end='')\n",
        "    print('+' * (rows - i))\n",
        "print('PATTERN-4')\n",
        "print('\\n')"
      ],
      "metadata": {
        "colab": {
          "base_uri": "https://localhost:8080/"
        },
        "id": "U-yG6Yo4dr-4",
        "outputId": "a976d3af-a4e9-4960-a601-7eed0ed55d0b"
      },
      "execution_count": 5,
      "outputs": [
        {
          "output_type": "stream",
          "name": "stdout",
          "text": [
            "++++++\n",
            "+++++\n",
            "++++\n",
            "+++\n",
            "++\n",
            "+\n",
            "PATTERN-1\n",
            "\n",
            "\n",
            "\n",
            "*\n",
            "**\n",
            "***\n",
            "****\n",
            "*****\n",
            "******\n",
            "PATTERN-2\n",
            "\n",
            "\n",
            "     *\n",
            "    **\n",
            "   ***\n",
            "  ****\n",
            " *****\n",
            "******\n",
            "PATTERN-3\n",
            "\n",
            "\n",
            "++++++\n",
            " +++++\n",
            "  ++++\n",
            "   +++\n",
            "    ++\n",
            "     +\n",
            "PATTERN-4\n",
            "\n",
            "\n"
          ]
        }
      ]
    },
    {
      "cell_type": "code",
      "source": [
        "rows = 6\n",
        "i = rows\n",
        "while i > 0:\n",
        "    j = 0\n",
        "    while j < i:\n",
        "        print('+', end='')\n",
        "        j += 1\n",
        "    print('')\n",
        "    i -= 1\n",
        "print('PATTERN-1\\n')\n",
        "\n",
        "\n",
        "\n",
        "rows = 6\n",
        "i = 0\n",
        "while i <= rows:\n",
        "    j = 0\n",
        "    while j < i:\n",
        "        print('*', end='')\n",
        "        j += 1\n",
        "    print('')\n",
        "    i += 1\n",
        "print('PATTERN-2\\n')\n",
        "\n",
        "\n",
        "\n",
        "\n",
        "rows = 6\n",
        "i = 0\n",
        "while i < rows:\n",
        "    j = 0\n",
        "    while j < (rows - i - 1):\n",
        "        print(\" \", end='')\n",
        "        j += 1\n",
        "    j = 0\n",
        "    while j <= i:\n",
        "        print(\"*\", end='')\n",
        "        j += 1\n",
        "    print('')\n",
        "    i += 1\n",
        "print('PATTERN-3\\n')\n",
        "\n",
        "\n",
        "\n",
        "\n",
        "\n",
        "\n",
        "rows = 6\n",
        "i = 0\n",
        "while i < rows:\n",
        "    print(' ' * i, end='')\n",
        "    print('+' * (rows - i))\n",
        "    i += 1\n",
        "print('PATTERN-4\\n')"
      ],
      "metadata": {
        "colab": {
          "base_uri": "https://localhost:8080/"
        },
        "id": "Ae4V9EYEd6R9",
        "outputId": "2a38160e-15a3-4915-eb20-ce053859813c"
      },
      "execution_count": 6,
      "outputs": [
        {
          "output_type": "stream",
          "name": "stdout",
          "text": [
            "++++++\n",
            "+++++\n",
            "++++\n",
            "+++\n",
            "++\n",
            "+\n",
            "PATTERN-1\n",
            "\n",
            "\n",
            "*\n",
            "**\n",
            "***\n",
            "****\n",
            "*****\n",
            "******\n",
            "PATTERN-2\n",
            "\n",
            "     *\n",
            "    **\n",
            "   ***\n",
            "  ****\n",
            " *****\n",
            "******\n",
            "PATTERN-3\n",
            "\n",
            "++++++\n",
            " +++++\n",
            "  ++++\n",
            "   +++\n",
            "    ++\n",
            "     +\n",
            "PATTERN-4\n",
            "\n"
          ]
        }
      ]
    }
  ]
}